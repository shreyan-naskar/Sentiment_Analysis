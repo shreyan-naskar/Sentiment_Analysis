{
 "cells": [
  {
   "cell_type": "code",
   "execution_count": 1,
   "id": "7e4482ac",
   "metadata": {
    "_cell_guid": "b1076dfc-b9ad-4769-8c92-a6c4dae69d19",
    "_uuid": "8f2839f25d086af736a60e9eeb907d3b93b6e0e5",
    "execution": {
     "iopub.execute_input": "2023-08-21T16:07:17.647523Z",
     "iopub.status.busy": "2023-08-21T16:07:17.646944Z",
     "iopub.status.idle": "2023-08-21T16:07:20.059514Z",
     "shell.execute_reply": "2023-08-21T16:07:20.058032Z"
    },
    "papermill": {
     "duration": 2.433687,
     "end_time": "2023-08-21T16:07:20.062589",
     "exception": false,
     "start_time": "2023-08-21T16:07:17.628902",
     "status": "completed"
    },
    "tags": []
   },
   "outputs": [
    {
     "name": "stdout",
     "output_type": "stream",
     "text": [
      "/kaggle/input/sentiment-prediction-on-movie-reviews/movies.csv\n",
      "/kaggle/input/sentiment-prediction-on-movie-reviews/sample.csv\n",
      "/kaggle/input/sentiment-prediction-on-movie-reviews/train.csv\n",
      "/kaggle/input/sentiment-prediction-on-movie-reviews/test.csv\n"
     ]
    }
   ],
   "source": [
    "import numpy as np # linear algebra\n",
    "import pandas as pd # data processing, CSV file I/O (e.g. pd.read_csv)\n",
    "from sklearn.metrics import confusion_matrix, classification_report\n",
    "from sklearn. preprocessing import StandardScaler, LabelEncoder\n",
    "from sklearn.model_selection import train_test_split\n",
    "from sklearn.metrics import confusion_matrix, classification_report\n",
    "from sklearn.impute import SimpleImputer\n",
    "import re\n",
    "import seaborn as sns\n",
    "import matplotlib.pyplot as plt"
   ]
  },
  {
   "cell_type": "code",
   "execution_count": 2,
   "id": "051bec98",
   "metadata": {
    "execution": {
     "iopub.execute_input": "2023-08-21T16:07:20.095690Z",
     "iopub.status.busy": "2023-08-21T16:07:20.095227Z",
     "iopub.status.idle": "2023-08-21T16:07:22.819866Z",
     "shell.execute_reply": "2023-08-21T16:07:22.818877Z"
    },
    "papermill": {
     "duration": 2.745148,
     "end_time": "2023-08-21T16:07:22.823217",
     "exception": false,
     "start_time": "2023-08-21T16:07:20.078069",
     "status": "completed"
    },
    "tags": []
   },
   "outputs": [],
   "source": [
    "Testset = pd.read_csv(\"C:/Users/SHREYAN/Downloads/sentiment-prediction-on-movie-reviews/test.csv\")\n",
    "Trainset = pd.read_csv(\"C:/Users/SHREYAN/Downloads/sentiment-prediction-on-movie-reviews/train.csv\")\n",
    "Movies = pd.read_csv(\"C:/Users/SHREYAN/Downloads/sentiment-prediction-on-movie-reviews/movies.csv\")"
   ]
  },
  {
   "cell_type": "code",
   "execution_count": 3,
   "id": "82d6c713",
   "metadata": {
    "execution": {
     "iopub.execute_input": "2023-08-21T16:07:22.857900Z",
     "iopub.status.busy": "2023-08-21T16:07:22.857454Z",
     "iopub.status.idle": "2023-08-21T16:07:22.867035Z",
     "shell.execute_reply": "2023-08-21T16:07:22.865799Z"
    },
    "papermill": {
     "duration": 0.030465,
     "end_time": "2023-08-21T16:07:22.869958",
     "exception": false,
     "start_time": "2023-08-21T16:07:22.839493",
     "status": "completed"
    },
    "tags": []
   },
   "outputs": [
    {
     "data": {
      "text/plain": [
       "'from sklearn.dummy import DummyClassifier\\nX = train_data[\"movieid\"]\\ny = train_data[\"sentiment\"]\\ndummy_clf = DummyClassifier()\\ndummy_clf.fit(X, y)\\nDummyClassifier()\\ndummy_clf.predict(X)\\n\\nsub = pd.DataFrame(dummy_clf.predict(test_data[\"movieid\"]), columns=[\\'sentiment\\'])\\nsub.index.name = \\'id\\'\\nsub.to_csv(\"testOutput.csv\", encoding=\\'utf-8\\')\\n\\noutput = pd.read_csv(\"testOutput.csv\")'"
      ]
     },
     "execution_count": 3,
     "metadata": {},
     "output_type": "execute_result"
    }
   ],
   "source": [
    "'''from sklearn.dummy import DummyClassifier\n",
    "X = train_data[\"movieid\"]\n",
    "y = train_data[\"sentiment\"]\n",
    "dummy_clf = DummyClassifier()\n",
    "dummy_clf.fit(X, y)\n",
    "DummyClassifier()\n",
    "dummy_clf.predict(X)\n",
    "\n",
    "sub = pd.DataFrame(dummy_clf.predict(test_data[\"movieid\"]), columns=['sentiment'])\n",
    "sub.index.name = 'id'\n",
    "sub.to_csv(\"testOutput.csv\", encoding='utf-8')\n",
    "\n",
    "output = pd.read_csv(\"testOutput.csv\")'''"
   ]
  },
  {
   "cell_type": "markdown",
   "id": "dd836da9",
   "metadata": {
    "papermill": {
     "duration": 0.015594,
     "end_time": "2023-08-21T16:07:22.901787",
     "exception": false,
     "start_time": "2023-08-21T16:07:22.886193",
     "status": "completed"
    },
    "tags": []
   },
   "source": [
    "# **EXPLORATORY DATA ANALYSIS**"
   ]
  },
  {
   "cell_type": "code",
   "execution_count": 4,
   "id": "0a6237af",
   "metadata": {
    "execution": {
     "iopub.execute_input": "2023-08-21T16:07:22.935769Z",
     "iopub.status.busy": "2023-08-21T16:07:22.935086Z",
     "iopub.status.idle": "2023-08-21T16:07:23.443878Z",
     "shell.execute_reply": "2023-08-21T16:07:23.442501Z"
    },
    "papermill": {
     "duration": 0.529377,
     "end_time": "2023-08-21T16:07:23.446636",
     "exception": false,
     "start_time": "2023-08-21T16:07:22.917259",
     "status": "completed"
    },
    "tags": []
   },
   "outputs": [
    {
     "data": {
      "text/plain": [
       "movieid                      0\n",
       "title                        0\n",
       "audienceScore            70010\n",
       "rating                  129267\n",
       "ratingContents          129267\n",
       "releaseDateTheaters     112485\n",
       "releaseDateStreaming     63838\n",
       "runtimeMinutes           13827\n",
       "genre                    11083\n",
       "originalLanguage         13858\n",
       "director                     0\n",
       "boxOffice               128515\n",
       "distributor             120253\n",
       "soundType               127341\n",
       "dtype: int64"
      ]
     },
     "execution_count": 4,
     "metadata": {},
     "output_type": "execute_result"
    }
   ],
   "source": [
    "Movies.isnull().sum() # most of the entries are missing. Hence wasn't used for the process."
   ]
  },
  {
   "cell_type": "code",
   "execution_count": 5,
   "id": "2e0b7e01",
   "metadata": {
    "execution": {
     "iopub.execute_input": "2023-08-21T16:07:23.481073Z",
     "iopub.status.busy": "2023-08-21T16:07:23.480620Z",
     "iopub.status.idle": "2023-08-21T16:07:23.712817Z",
     "shell.execute_reply": "2023-08-21T16:07:23.711564Z"
    },
    "papermill": {
     "duration": 0.253278,
     "end_time": "2023-08-21T16:07:23.716093",
     "exception": false,
     "start_time": "2023-08-21T16:07:23.462815",
     "status": "completed"
    },
    "tags": []
   },
   "outputs": [
    {
     "name": "stdout",
     "output_type": "stream",
     "text": [
      "<class 'pandas.core.frame.DataFrame'>\n",
      "RangeIndex: 162758 entries, 0 to 162757\n",
      "Data columns (total 5 columns):\n",
      " #   Column              Non-Null Count   Dtype \n",
      "---  ------              --------------   ----- \n",
      " 0   movieid             162758 non-null  object\n",
      " 1   reviewerName        162758 non-null  object\n",
      " 2   isFrequentReviewer  162758 non-null  bool  \n",
      " 3   reviewText          156311 non-null  object\n",
      " 4   sentiment           162758 non-null  object\n",
      "dtypes: bool(1), object(4)\n",
      "memory usage: 5.1+ MB\n"
     ]
    }
   ],
   "source": [
    "Trainset.info()"
   ]
  },
  {
   "cell_type": "code",
   "execution_count": 6,
   "id": "7da160a2",
   "metadata": {
    "execution": {
     "iopub.execute_input": "2023-08-21T16:07:23.750522Z",
     "iopub.status.busy": "2023-08-21T16:07:23.750016Z",
     "iopub.status.idle": "2023-08-21T16:07:24.110688Z",
     "shell.execute_reply": "2023-08-21T16:07:24.109335Z"
    },
    "papermill": {
     "duration": 0.38204,
     "end_time": "2023-08-21T16:07:24.114515",
     "exception": false,
     "start_time": "2023-08-21T16:07:23.732475",
     "status": "completed"
    },
    "tags": []
   },
   "outputs": [
    {
     "data": {
      "text/html": [
       "<div>\n",
       "<style scoped>\n",
       "    .dataframe tbody tr th:only-of-type {\n",
       "        vertical-align: middle;\n",
       "    }\n",
       "\n",
       "    .dataframe tbody tr th {\n",
       "        vertical-align: top;\n",
       "    }\n",
       "\n",
       "    .dataframe thead th {\n",
       "        text-align: right;\n",
       "    }\n",
       "</style>\n",
       "<table border=\"1\" class=\"dataframe\">\n",
       "  <thead>\n",
       "    <tr style=\"text-align: right;\">\n",
       "      <th></th>\n",
       "      <th>movieid</th>\n",
       "      <th>reviewerName</th>\n",
       "      <th>isFrequentReviewer</th>\n",
       "      <th>reviewText</th>\n",
       "      <th>sentiment</th>\n",
       "    </tr>\n",
       "  </thead>\n",
       "  <tbody>\n",
       "    <tr>\n",
       "      <th>count</th>\n",
       "      <td>162758</td>\n",
       "      <td>162758</td>\n",
       "      <td>162758</td>\n",
       "      <td>156311</td>\n",
       "      <td>162758</td>\n",
       "    </tr>\n",
       "    <tr>\n",
       "      <th>unique</th>\n",
       "      <td>16812</td>\n",
       "      <td>4482</td>\n",
       "      <td>2</td>\n",
       "      <td>155071</td>\n",
       "      <td>2</td>\n",
       "    </tr>\n",
       "    <tr>\n",
       "      <th>top</th>\n",
       "      <td>escape_the_terminator_tyler_durden_astonish</td>\n",
       "      <td>Sherri Morrison</td>\n",
       "      <td>False</td>\n",
       "      <td>Parental Content Review</td>\n",
       "      <td>POSITIVE</td>\n",
       "    </tr>\n",
       "    <tr>\n",
       "      <th>freq</th>\n",
       "      <td>708</td>\n",
       "      <td>962</td>\n",
       "      <td>113189</td>\n",
       "      <td>29</td>\n",
       "      <td>108761</td>\n",
       "    </tr>\n",
       "  </tbody>\n",
       "</table>\n",
       "</div>"
      ],
      "text/plain": [
       "                                            movieid     reviewerName  \\\n",
       "count                                        162758           162758   \n",
       "unique                                        16812             4482   \n",
       "top     escape_the_terminator_tyler_durden_astonish  Sherri Morrison   \n",
       "freq                                            708              962   \n",
       "\n",
       "       isFrequentReviewer               reviewText sentiment  \n",
       "count              162758                   156311    162758  \n",
       "unique                  2                   155071         2  \n",
       "top                 False  Parental Content Review  POSITIVE  \n",
       "freq               113189                       29    108761  "
      ]
     },
     "execution_count": 6,
     "metadata": {},
     "output_type": "execute_result"
    }
   ],
   "source": [
    "Trainset.describe()"
   ]
  },
  {
   "cell_type": "code",
   "execution_count": 7,
   "id": "a7a45519",
   "metadata": {
    "execution": {
     "iopub.execute_input": "2023-08-21T16:07:24.150304Z",
     "iopub.status.busy": "2023-08-21T16:07:24.149813Z",
     "iopub.status.idle": "2023-08-21T16:07:24.375738Z",
     "shell.execute_reply": "2023-08-21T16:07:24.374365Z"
    },
    "papermill": {
     "duration": 0.247271,
     "end_time": "2023-08-21T16:07:24.378571",
     "exception": false,
     "start_time": "2023-08-21T16:07:24.131300",
     "status": "completed"
    },
    "tags": []
   },
   "outputs": [
    {
     "data": {
      "text/plain": [
       "movieid                  0\n",
       "reviewerName             0\n",
       "isFrequentReviewer       0\n",
       "reviewText            6447\n",
       "sentiment                0\n",
       "dtype: int64"
      ]
     },
     "execution_count": 7,
     "metadata": {},
     "output_type": "execute_result"
    }
   ],
   "source": [
    "Trainset.isnull().sum()"
   ]
  },
  {
   "cell_type": "markdown",
   "id": "457e16b4",
   "metadata": {
    "papermill": {
     "duration": 0.015879,
     "end_time": "2023-08-21T16:07:24.410523",
     "exception": false,
     "start_time": "2023-08-21T16:07:24.394644",
     "status": "completed"
    },
    "tags": []
   },
   "source": [
    "# **DATA PREPROCESSING**"
   ]
  },
  {
   "cell_type": "code",
   "execution_count": 8,
   "id": "c249df87",
   "metadata": {
    "execution": {
     "iopub.execute_input": "2023-08-21T16:07:24.444455Z",
     "iopub.status.busy": "2023-08-21T16:07:24.443981Z",
     "iopub.status.idle": "2023-08-21T16:07:24.458516Z",
     "shell.execute_reply": "2023-08-21T16:07:24.457088Z"
    },
    "papermill": {
     "duration": 0.034974,
     "end_time": "2023-08-21T16:07:24.461523",
     "exception": false,
     "start_time": "2023-08-21T16:07:24.426549",
     "status": "completed"
    },
    "tags": []
   },
   "outputs": [],
   "source": [
    "Train_data = Trainset[[\"reviewText\",\"sentiment\"]] # Other feattures are ruled out intuitively as 'sentiment' is indeoendent of MovieID, reviewerName or being a frequent reviewer\n",
    "Test_data = Testset[\"reviewText\"]"
   ]
  },
  {
   "cell_type": "markdown",
   "id": "23e6d247",
   "metadata": {
    "papermill": {
     "duration": 0.015185,
     "end_time": "2023-08-21T16:07:24.492459",
     "exception": false,
     "start_time": "2023-08-21T16:07:24.477274",
     "status": "completed"
    },
    "tags": []
   },
   "source": [
    "> # Imputation & Encoding"
   ]
  },
  {
   "cell_type": "code",
   "execution_count": 9,
   "id": "9117f2d0",
   "metadata": {
    "execution": {
     "iopub.execute_input": "2023-08-21T16:07:24.525638Z",
     "iopub.status.busy": "2023-08-21T16:07:24.525173Z",
     "iopub.status.idle": "2023-08-21T16:07:24.761623Z",
     "shell.execute_reply": "2023-08-21T16:07:24.760008Z"
    },
    "papermill": {
     "duration": 0.256858,
     "end_time": "2023-08-21T16:07:24.764772",
     "exception": false,
     "start_time": "2023-08-21T16:07:24.507914",
     "status": "completed"
    },
    "tags": []
   },
   "outputs": [],
   "source": [
    "from sklearn.compose import ColumnTransformer\n",
    "\n",
    "si = SimpleImputer(strategy='most_frequent')\n",
    "le = LabelEncoder()\n",
    "\n",
    "# Impute Train_data\n",
    "train_text = Train_data[\"reviewText\"].values\n",
    "train_text = si.fit_transform(train_text.reshape(-1,1))\n",
    "train_text = train_text.ravel() #.ravel()  returns contiguous flattened array\n",
    "\n",
    "# Encode 'sentiment' feature\n",
    "sent = Train_data[\"sentiment\"]\n",
    "sent = le.fit_transform(sent)\n",
    "\n",
    "data = {\"reviewText\" : train_text, \"sentiment\": sent}\n",
    "Train_data = pd.DataFrame(data)\n",
    "\n",
    "#Impute Test_data\n",
    "test_text = Test_data.values\n",
    "test_text = si.transform(test_text.reshape(-1,1))\n",
    "test_text = test_text.ravel() #.ravel()  returns contiguous flattened array\n",
    "\n",
    "Test_data = pd.Series(test_text)"
   ]
  },
  {
   "cell_type": "code",
   "execution_count": 10,
   "id": "ab8828e3",
   "metadata": {
    "execution": {
     "iopub.execute_input": "2023-08-21T16:07:24.799179Z",
     "iopub.status.busy": "2023-08-21T16:07:24.798677Z",
     "iopub.status.idle": "2023-08-21T16:07:24.807683Z",
     "shell.execute_reply": "2023-08-21T16:07:24.806245Z"
    },
    "papermill": {
     "duration": 0.029844,
     "end_time": "2023-08-21T16:07:24.810229",
     "exception": false,
     "start_time": "2023-08-21T16:07:24.780385",
     "status": "completed"
    },
    "tags": []
   },
   "outputs": [
    {
     "data": {
      "text/plain": [
       "array([1, 0])"
      ]
     },
     "execution_count": 10,
     "metadata": {},
     "output_type": "execute_result"
    }
   ],
   "source": [
    "le.transform([\"POSITIVE\",\"NEGATIVE\"])"
   ]
  },
  {
   "cell_type": "markdown",
   "id": "7516fa1b",
   "metadata": {
    "papermill": {
     "duration": 0.015426,
     "end_time": "2023-08-21T16:07:24.841413",
     "exception": false,
     "start_time": "2023-08-21T16:07:24.825987",
     "status": "completed"
    },
    "tags": []
   },
   "source": [
    "> # Regex "
   ]
  },
  {
   "cell_type": "markdown",
   "id": "87e0b629",
   "metadata": {
    "papermill": {
     "duration": 0.015929,
     "end_time": "2023-08-21T16:07:24.874105",
     "exception": false,
     "start_time": "2023-08-21T16:07:24.858176",
     "status": "completed"
    },
    "tags": []
   },
   "source": [
    ">> # Regex Syntax :\n",
    ">>* ‘+’ -> repeatition of preceding character one or more times\n",
    ">>* '?' -> preceding character may or may not be present in the string\n",
    ">>* '\\\\' -> followed by\n",
    ">>* '|' -> or operator\n",
    ">>* '[#@]\\S+' -> string group which starts with # or @, followed by non-whitespace character(\\S)\n",
    ">>* 'http[s]?\\://\\S+' -> string group that corresponds to an URL\n",
    ">>* '[0-9]' -> string group containing numbers\n",
    ">>* '(\\(.*\\))|(\\[.*\\])' -> string group of the form (...) or [...]\n",
    ">>* '\\n|\\t' -> remove tabspaces and newlines"
   ]
  },
  {
   "cell_type": "code",
   "execution_count": 11,
   "id": "89e02700",
   "metadata": {
    "execution": {
     "iopub.execute_input": "2023-08-21T16:07:24.908316Z",
     "iopub.status.busy": "2023-08-21T16:07:24.907626Z",
     "iopub.status.idle": "2023-08-21T16:07:33.509922Z",
     "shell.execute_reply": "2023-08-21T16:07:33.508434Z"
    },
    "papermill": {
     "duration": 8.623363,
     "end_time": "2023-08-21T16:07:33.513175",
     "exception": false,
     "start_time": "2023-08-21T16:07:24.889812",
     "status": "completed"
    },
    "tags": []
   },
   "outputs": [],
   "source": [
    "# For Train_data\n",
    "Reg_train_text = []\n",
    "for i in Train_data[\"reviewText\"].values:\n",
    "  clean_text = re.sub(r\"(http[s]?\\://\\S+)|[0-9]|(\\(.*\\))|(\\[.*\\])|([#@]\\S+)|\\n|\\t\", \"\",i) # substitute with empty string\n",
    "  Reg_train_text.append(clean_text)\n",
    "\n",
    "sent = Train_data[\"sentiment\"]\n",
    "\n",
    "data = {\"reviewText\" : Reg_train_text, \"sentiment\": sent}\n",
    "Train_data = pd.DataFrame(data)\n",
    "\n",
    "# For Test_data\n",
    "Reg_test_text = []\n",
    "for i in Test_data.values:\n",
    "  clean_text = re.sub(r\"(http[s]?\\://\\S+)|[0-9]|(\\(.*\\))|(\\[.*\\])|([#@]\\S+)|\\n|\\t\", \"\",i) # substitute with empty string\n",
    "  Reg_test_text.append(clean_text)\n",
    "    \n",
    "Test_data = pd.Series(Reg_test_text)"
   ]
  },
  {
   "cell_type": "markdown",
   "id": "d6e5576a",
   "metadata": {
    "papermill": {
     "duration": 0.01541,
     "end_time": "2023-08-21T16:07:33.544231",
     "exception": false,
     "start_time": "2023-08-21T16:07:33.528821",
     "status": "completed"
    },
    "tags": []
   },
   "source": [
    "> # Vectorization"
   ]
  },
  {
   "cell_type": "code",
   "execution_count": 12,
   "id": "d3d11f32",
   "metadata": {
    "execution": {
     "iopub.execute_input": "2023-08-21T16:07:33.578625Z",
     "iopub.status.busy": "2023-08-21T16:07:33.577894Z",
     "iopub.status.idle": "2023-08-21T16:07:41.429470Z",
     "shell.execute_reply": "2023-08-21T16:07:41.428086Z"
    },
    "papermill": {
     "duration": 7.872903,
     "end_time": "2023-08-21T16:07:41.432820",
     "exception": false,
     "start_time": "2023-08-21T16:07:33.559917",
     "status": "completed"
    },
    "tags": []
   },
   "outputs": [],
   "source": [
    "from sklearn.feature_extraction.text import TfidfVectorizer # TF-IDF is better than BoW as it takes account of the rarity of a word\n",
    "\n",
    "vectorizer = TfidfVectorizer()\n",
    "\n",
    "X = Train_data[\"reviewText\"]\n",
    "y = Train_data[\"sentiment\"]\n",
    "\n",
    "\n",
    "X = vectorizer.fit_transform(X)\n",
    "Test_data = vectorizer.transform(Test_data)"
   ]
  },
  {
   "cell_type": "code",
   "execution_count": 13,
   "id": "494b739e",
   "metadata": {
    "execution": {
     "iopub.execute_input": "2023-08-21T16:07:41.467979Z",
     "iopub.status.busy": "2023-08-21T16:07:41.467516Z",
     "iopub.status.idle": "2023-08-21T16:07:41.476855Z",
     "shell.execute_reply": "2023-08-21T16:07:41.476002Z"
    },
    "papermill": {
     "duration": 0.030063,
     "end_time": "2023-08-21T16:07:41.479111",
     "exception": false,
     "start_time": "2023-08-21T16:07:41.449048",
     "status": "completed"
    },
    "tags": []
   },
   "outputs": [
    {
     "data": {
      "text/plain": [
       "'from sklearn.feature_extraction.text import CountVectorizer # BoW just accounts for the frequencies of a word\\n\\nvectorizer = CountVectorizer()\\n\\nX = Train_data[\"reviewText\"]\\ny = Train_data[\"sentiment\"]\\n\\n\\nX = vectorizer.fit_transform(X)\\nTest_data = vectorizer.transform(Test_data)\\n'"
      ]
     },
     "execution_count": 13,
     "metadata": {},
     "output_type": "execute_result"
    }
   ],
   "source": [
    "'''from sklearn.feature_extraction.text import CountVectorizer # BoW just accounts for the frequencies of a word\n",
    "\n",
    "vectorizer = CountVectorizer()\n",
    "\n",
    "X = Train_data[\"reviewText\"]\n",
    "y = Train_data[\"sentiment\"]\n",
    "\n",
    "\n",
    "X = vectorizer.fit_transform(X)\n",
    "Test_data = vectorizer.transform(Test_data)\n",
    "'''"
   ]
  },
  {
   "cell_type": "markdown",
   "id": "e8013710",
   "metadata": {
    "papermill": {
     "duration": 0.016261,
     "end_time": "2023-08-21T16:07:41.513211",
     "exception": false,
     "start_time": "2023-08-21T16:07:41.496950",
     "status": "completed"
    },
    "tags": []
   },
   "source": [
    "> # Visualisation"
   ]
  },
  {
   "cell_type": "code",
   "execution_count": 14,
   "id": "5fae92ed",
   "metadata": {
    "execution": {
     "iopub.execute_input": "2023-08-21T16:07:41.548118Z",
     "iopub.status.busy": "2023-08-21T16:07:41.547331Z",
     "iopub.status.idle": "2023-08-21T16:07:41.558745Z",
     "shell.execute_reply": "2023-08-21T16:07:41.557163Z"
    },
    "papermill": {
     "duration": 0.032114,
     "end_time": "2023-08-21T16:07:41.561537",
     "exception": false,
     "start_time": "2023-08-21T16:07:41.529423",
     "status": "completed"
    },
    "tags": []
   },
   "outputs": [
    {
     "data": {
      "text/plain": [
       "1    108761\n",
       "0     53997\n",
       "Name: sentiment, dtype: int64"
      ]
     },
     "execution_count": 14,
     "metadata": {},
     "output_type": "execute_result"
    }
   ],
   "source": [
    "y.value_counts()"
   ]
  },
  {
   "cell_type": "code",
   "execution_count": 15,
   "id": "6b274ffc",
   "metadata": {
    "execution": {
     "iopub.execute_input": "2023-08-21T16:07:41.596369Z",
     "iopub.status.busy": "2023-08-21T16:07:41.595886Z",
     "iopub.status.idle": "2023-08-21T16:07:42.166920Z",
     "shell.execute_reply": "2023-08-21T16:07:42.165335Z"
    },
    "papermill": {
     "duration": 0.591901,
     "end_time": "2023-08-21T16:07:42.169992",
     "exception": false,
     "start_time": "2023-08-21T16:07:41.578091",
     "status": "completed"
    },
    "tags": []
   },
   "outputs": [
    {
     "data": {
      "text/plain": [
       "Text(0, 0.5, 'count')"
      ]
     },
     "execution_count": 15,
     "metadata": {},
     "output_type": "execute_result"
    },
    {
     "data": {
      "image/png": "[encoded data removed]",
      "text/plain": [
       "<Figure size 640x480 with 1 Axes>"
      ]
     },
     "metadata": {},
     "output_type": "display_data"
    }
   ],
   "source": [
    "sns.set()\n",
    "y.hist()\n",
    "plt.xlabel('sentiment')\n",
    "plt.ylabel('count')"
   ]
  },
  {
   "cell_type": "markdown",
   "id": "08a43634",
   "metadata": {
    "papermill": {
     "duration": 0.016793,
     "end_time": "2023-08-21T16:07:42.204387",
     "exception": false,
     "start_time": "2023-08-21T16:07:42.187594",
     "status": "completed"
    },
    "tags": []
   },
   "source": [
    "Reviews are mostly labelled as POSITIVE/1"
   ]
  },
  {
   "cell_type": "markdown",
   "id": "83a1dc72",
   "metadata": {
    "papermill": {
     "duration": 0.016755,
     "end_time": "2023-08-21T16:07:42.238179",
     "exception": false,
     "start_time": "2023-08-21T16:07:42.221424",
     "status": "completed"
    },
    "tags": []
   },
   "source": [
    "> # Feauture Selection and Normalization Pipeline"
   ]
  },
  {
   "cell_type": "code",
   "execution_count": 16,
   "id": "03f83d6d",
   "metadata": {
    "execution": {
     "iopub.execute_input": "2023-08-21T16:07:42.275232Z",
     "iopub.status.busy": "2023-08-21T16:07:42.274756Z",
     "iopub.status.idle": "2023-08-21T16:07:42.282259Z",
     "shell.execute_reply": "2023-08-21T16:07:42.281087Z"
    },
    "papermill": {
     "duration": 0.029227,
     "end_time": "2023-08-21T16:07:42.284653",
     "exception": false,
     "start_time": "2023-08-21T16:07:42.255426",
     "status": "completed"
    },
    "tags": []
   },
   "outputs": [
    {
     "data": {
      "text/plain": [
       "(162758, 63816)"
      ]
     },
     "execution_count": 16,
     "metadata": {},
     "output_type": "execute_result"
    }
   ],
   "source": [
    "X.shape # Too many features"
   ]
  },
  {
   "cell_type": "code",
   "execution_count": 17,
   "id": "ea292d3a",
   "metadata": {
    "execution": {
     "iopub.execute_input": "2023-08-21T16:07:42.332330Z",
     "iopub.status.busy": "2023-08-21T16:07:42.331290Z",
     "iopub.status.idle": "2023-08-21T16:07:42.680646Z",
     "shell.execute_reply": "2023-08-21T16:07:42.679250Z"
    },
    "papermill": {
     "duration": 0.378669,
     "end_time": "2023-08-21T16:07:42.684254",
     "exception": false,
     "start_time": "2023-08-21T16:07:42.305585",
     "status": "completed"
    },
    "tags": []
   },
   "outputs": [],
   "source": [
    "from sklearn.pipeline import Pipeline\n",
    "from sklearn.feature_selection import SelectKBest, chi2\n",
    "from sklearn.preprocessing import Normalizer\n",
    "k = 40000 # 40000 selected as it gave better metrics after training and validation. Others tested were 20000, 100, 45000, 50000 all of which were worse\n",
    "estimators = [\n",
    "('selector', SelectKBest(score_func=chi2, k=k)),\n",
    "('normalizer', Normalizer()), # StsndardScalar/MinMaxScalar doesn't work on sparse matrices. MaxAbsSclar workd but performs slightly worse tha Normalizer.\n",
    "]\n",
    "pipe = Pipeline(steps=estimators)\n",
    "\n",
    "X_transformed = pipe.fit_transform(X, y)\n",
    "Test_data = pipe.transform(Test_data)\n"
   ]
  },
  {
   "cell_type": "code",
   "execution_count": 18,
   "id": "108aeddd",
   "metadata": {
    "execution": {
     "iopub.execute_input": "2023-08-21T16:07:42.728529Z",
     "iopub.status.busy": "2023-08-21T16:07:42.727545Z",
     "iopub.status.idle": "2023-08-21T16:07:42.735113Z",
     "shell.execute_reply": "2023-08-21T16:07:42.734102Z"
    },
    "papermill": {
     "duration": 0.029764,
     "end_time": "2023-08-21T16:07:42.737699",
     "exception": false,
     "start_time": "2023-08-21T16:07:42.707935",
     "status": "completed"
    },
    "tags": []
   },
   "outputs": [
    {
     "data": {
      "text/plain": [
       "(162758, 40000)"
      ]
     },
     "execution_count": 18,
     "metadata": {},
     "output_type": "execute_result"
    }
   ],
   "source": [
    "X_transformed.shape "
   ]
  },
  {
   "cell_type": "markdown",
   "id": "a15af2a7",
   "metadata": {
    "papermill": {
     "duration": 0.01858,
     "end_time": "2023-08-21T16:07:42.774605",
     "exception": false,
     "start_time": "2023-08-21T16:07:42.756025",
     "status": "completed"
    },
    "tags": []
   },
   "source": [
    "> # Train_test  split"
   ]
  },
  {
   "cell_type": "code",
   "execution_count": 19,
   "id": "3179b92d",
   "metadata": {
    "execution": {
     "iopub.execute_input": "2023-08-21T16:07:42.815461Z",
     "iopub.status.busy": "2023-08-21T16:07:42.814451Z",
     "iopub.status.idle": "2023-08-21T16:07:42.861928Z",
     "shell.execute_reply": "2023-08-21T16:07:42.860880Z"
    },
    "papermill": {
     "duration": 0.072133,
     "end_time": "2023-08-21T16:07:42.864725",
     "exception": false,
     "start_time": "2023-08-21T16:07:42.792592",
     "status": "completed"
    },
    "tags": []
   },
   "outputs": [],
   "source": [
    "X_train, X_test, y_train, y_test = train_test_split(\n",
    "    X_transformed, y, test_size=0.3, random_state=42\n",
    ")"
   ]
  },
  {
   "cell_type": "markdown",
   "id": "f0dbe2e0",
   "metadata": {
    "papermill": {
     "duration": 0.018318,
     "end_time": "2023-08-21T16:07:42.901814",
     "exception": false,
     "start_time": "2023-08-21T16:07:42.883496",
     "status": "completed"
    },
    "tags": []
   },
   "source": [
    "# **MODEL TRAINING AND TESTING**"
   ]
  },
  {
   "cell_type": "markdown",
   "id": "d439dd75",
   "metadata": {
    "papermill": {
     "duration": 0.017189,
     "end_time": "2023-08-21T16:07:42.936727",
     "exception": false,
     "start_time": "2023-08-21T16:07:42.919538",
     "status": "completed"
    },
    "tags": []
   },
   "source": [
    "> # LinearSVC"
   ]
  },
  {
   "cell_type": "code",
   "execution_count": 20,
   "id": "d1a28d3b",
   "metadata": {
    "execution": {
     "iopub.execute_input": "2023-08-21T16:07:42.975921Z",
     "iopub.status.busy": "2023-08-21T16:07:42.975132Z",
     "iopub.status.idle": "2023-08-21T16:07:45.681921Z",
     "shell.execute_reply": "2023-08-21T16:07:45.680247Z"
    },
    "papermill": {
     "duration": 2.729765,
     "end_time": "2023-08-21T16:07:45.685471",
     "exception": false,
     "start_time": "2023-08-21T16:07:42.955706",
     "status": "completed"
    },
    "tags": []
   },
   "outputs": [
    {
     "name": "stdout",
     "output_type": "stream",
     "text": [
      "              precision    recall  f1-score   support\n",
      "\n",
      "           0       0.75      0.63      0.69     16201\n",
      "           1       0.83      0.89      0.86     32627\n",
      "\n",
      "    accuracy                           0.81     48828\n",
      "   macro avg       0.79      0.76      0.77     48828\n",
      "weighted avg       0.80      0.81      0.80     48828\n",
      "\n",
      "[[10266  5935]\n",
      " [ 3449 29178]]\n"
     ]
    },
    {
     "data": {
      "text/plain": [
       "<Axes: >"
      ]
     },
     "execution_count": 20,
     "metadata": {},
     "output_type": "execute_result"
    },
    {
     "data": {
      "image/png": "[encoded data removed]",
      "text/plain": [
       "<Figure size 640x480 with 2 Axes>"
      ]
     },
     "metadata": {},
     "output_type": "display_data"
    }
   ],
   "source": [
    "from sklearn.svm import LinearSVC\n",
    "\n",
    "clf = LinearSVC()\n",
    "clf.fit(X_train, y_train)\n",
    "\n",
    "pred_CLF = clf.predict(X_test)\n",
    "\n",
    "print(classification_report(y_test , pred_CLF))\n",
    "cf_mat = confusion_matrix(y_test , pred_CLF)\n",
    "print(cf_mat)\n",
    "sns.heatmap(cf_mat, fmt='', annot=True)"
   ]
  },
  {
   "cell_type": "markdown",
   "id": "5712d268",
   "metadata": {
    "papermill": {
     "duration": 0.01876,
     "end_time": "2023-08-21T16:07:45.723737",
     "exception": false,
     "start_time": "2023-08-21T16:07:45.704977",
     "status": "completed"
    },
    "tags": []
   },
   "source": [
    "### Good at classification NEGATIVE/0 data points.\n",
    "### Great at classification of POSITIVE/1 data points."
   ]
  },
  {
   "cell_type": "code",
   "execution_count": 21,
   "id": "7c6f4cb2",
   "metadata": {
    "execution": {
     "iopub.execute_input": "2023-08-21T16:07:45.762530Z",
     "iopub.status.busy": "2023-08-21T16:07:45.762037Z",
     "iopub.status.idle": "2023-08-21T16:07:45.777697Z",
     "shell.execute_reply": "2023-08-21T16:07:45.776722Z"
    },
    "papermill": {
     "duration": 0.038158,
     "end_time": "2023-08-21T16:07:45.780177",
     "exception": false,
     "start_time": "2023-08-21T16:07:45.742019",
     "status": "completed"
    },
    "tags": []
   },
   "outputs": [
    {
     "data": {
      "text/plain": [
       "0.808"
      ]
     },
     "execution_count": 21,
     "metadata": {},
     "output_type": "execute_result"
    }
   ],
   "source": [
    "#accuracy_score\n",
    "from sklearn.metrics import accuracy_score\n",
    "np.round(accuracy_score(y_test, pred_CLF),3)"
   ]
  },
  {
   "cell_type": "markdown",
   "id": "460be441",
   "metadata": {
    "papermill": {
     "duration": 0.018832,
     "end_time": "2023-08-21T16:07:45.817934",
     "exception": false,
     "start_time": "2023-08-21T16:07:45.799102",
     "status": "completed"
    },
    "tags": []
   },
   "source": [
    "> # Logistic Regression"
   ]
  },
  {
   "cell_type": "code",
   "execution_count": 22,
   "id": "cdddd365",
   "metadata": {
    "execution": {
     "iopub.execute_input": "2023-08-21T16:07:45.859047Z",
     "iopub.status.busy": "2023-08-21T16:07:45.858000Z",
     "iopub.status.idle": "2023-08-21T16:08:02.193789Z",
     "shell.execute_reply": "2023-08-21T16:08:02.192357Z"
    },
    "papermill": {
     "duration": 16.358943,
     "end_time": "2023-08-21T16:08:02.196586",
     "exception": false,
     "start_time": "2023-08-21T16:07:45.837643",
     "status": "completed"
    },
    "tags": []
   },
   "outputs": [
    {
     "name": "stdout",
     "output_type": "stream",
     "text": [
      "              precision    recall  f1-score   support\n",
      "\n",
      "           0       0.77      0.58      0.66     16201\n",
      "           1       0.81      0.91      0.86     32627\n",
      "\n",
      "    accuracy                           0.80     48828\n",
      "   macro avg       0.79      0.75      0.76     48828\n",
      "weighted avg       0.80      0.80      0.79     48828\n",
      "\n",
      "[[ 9354  6847]\n",
      " [ 2830 29797]]\n"
     ]
    },
    {
     "data": {
      "text/plain": [
       "<Axes: >"
      ]
     },
     "execution_count": 22,
     "metadata": {},
     "output_type": "execute_result"
    },
    {
     "data": {
      "image/png": "[encoded data removed]",
      "text/plain": [
       "<Figure size 640x480 with 2 Axes>"
      ]
     },
     "metadata": {},
     "output_type": "display_data"
    }
   ],
   "source": [
    "from sklearn.linear_model import LogisticRegression\n",
    "\n",
    "logreg = LogisticRegression(max_iter = 500)\n",
    "logreg.fit(X_train, y_train)\n",
    "\n",
    "pred_LREG = logreg.predict(X_test)\n",
    "\n",
    "print(classification_report(y_test , pred_LREG))\n",
    "cf_mat = confusion_matrix(y_test , pred_LREG)\n",
    "print(cf_mat)\n",
    "sns.heatmap(cf_mat, fmt='', annot=True)\n"
   ]
  },
  {
   "cell_type": "markdown",
   "id": "1706a4dd",
   "metadata": {
    "papermill": {
     "duration": 0.020442,
     "end_time": "2023-08-21T16:08:02.235982",
     "exception": false,
     "start_time": "2023-08-21T16:08:02.215540",
     "status": "completed"
    },
    "tags": []
   },
   "source": [
    "### Bit worse at classification NEGATIVE/0 data points.\n",
    "### Great at classification of POSITIVE/1 data points."
   ]
  },
  {
   "cell_type": "markdown",
   "id": "967b4553",
   "metadata": {
    "papermill": {
     "duration": 0.018546,
     "end_time": "2023-08-21T16:08:02.273907",
     "exception": false,
     "start_time": "2023-08-21T16:08:02.255361",
     "status": "completed"
    },
    "tags": []
   },
   "source": [
    "# **HYPERPARAMETER TUNING**"
   ]
  },
  {
   "cell_type": "markdown",
   "id": "acf1ff7f",
   "metadata": {
    "papermill": {
     "duration": 0.019002,
     "end_time": "2023-08-21T16:08:02.311907",
     "exception": false,
     "start_time": "2023-08-21T16:08:02.292905",
     "status": "completed"
    },
    "tags": []
   },
   "source": [
    "> # Logistic Regression in GridSearchCV"
   ]
  },
  {
   "cell_type": "code",
   "execution_count": 23,
   "id": "7e4085eb",
   "metadata": {
    "execution": {
     "iopub.execute_input": "2023-08-21T16:08:02.353809Z",
     "iopub.status.busy": "2023-08-21T16:08:02.352472Z",
     "iopub.status.idle": "2023-08-21T16:08:02.360777Z",
     "shell.execute_reply": "2023-08-21T16:08:02.359923Z"
    },
    "papermill": {
     "duration": 0.032106,
     "end_time": "2023-08-21T16:08:02.363291",
     "exception": false,
     "start_time": "2023-08-21T16:08:02.331185",
     "status": "completed"
    },
    "tags": []
   },
   "outputs": [
    {
     "data": {
      "text/plain": [
       "\"\\nfrom sklearn.linear_model import LogisticRegression\\nfrom sklearn.model_selection import GridSearchCV\\n\\n# Define the logistic regression model\\nlogistic_regression = LogisticRegression(solver = 'newton-cholesky', max_iter = 1000 ) # ‘newton-cholesky’ is a good choice for n_samples >> n_features\\n\\n# Define the parameter grid for hyperparameter tuning\\nparam_grid = {\\n    'C': [0.1, 1, 10]\\n}\\n\\n# Perform grid search with cross-validation\\ngrid_search = GridSearchCV(logistic_regression, param_grid, cv=5)\\ngrid_search.fit(X_train, y_train)\\n\\npred_LRGS = grid_search.predict(X_test)\\n\\nprint(classification_report(y_test , pred_LRGS))\\ncf_mat = confusion_matrix(y_test , pred_LRGS)\\nsns.heatmap(cf_mat, fmt='', annot=True)\\n\""
      ]
     },
     "execution_count": 23,
     "metadata": {},
     "output_type": "execute_result"
    }
   ],
   "source": [
    "'''\n",
    "from sklearn.linear_model import LogisticRegression\n",
    "from sklearn.model_selection import GridSearchCV\n",
    "\n",
    "# Define the logistic regression model\n",
    "logistic_regression = LogisticRegression(solver = 'newton-cholesky', max_iter = 1000 ) # ‘newton-cholesky’ is a good choice for n_samples >> n_features\n",
    "\n",
    "# Define the parameter grid for hyperparameter tuning\n",
    "param_grid = {\n",
    "    'C': [0.1, 1, 10]\n",
    "}\n",
    "\n",
    "# Perform grid search with cross-validation\n",
    "grid_search = GridSearchCV(logistic_regression, param_grid, cv=5)\n",
    "grid_search.fit(X_train, y_train)\n",
    "\n",
    "pred_LRGS = grid_search.predict(X_test)\n",
    "\n",
    "print(classification_report(y_test , pred_LRGS))\n",
    "cf_mat = confusion_matrix(y_test , pred_LRGS)\n",
    "sns.heatmap(cf_mat, fmt='', annot=True)\n",
    "'''"
   ]
  },
  {
   "cell_type": "markdown",
   "id": "0b056691",
   "metadata": {
    "papermill": {
     "duration": 0.021262,
     "end_time": "2023-08-21T16:08:02.403605",
     "exception": false,
     "start_time": "2023-08-21T16:08:02.382343",
     "status": "completed"
    },
    "tags": []
   },
   "source": [
    "> # MultinomialNB in GridSearchCV"
   ]
  },
  {
   "cell_type": "code",
   "execution_count": 24,
   "id": "b2d59b47",
   "metadata": {
    "execution": {
     "iopub.execute_input": "2023-08-21T16:08:02.446014Z",
     "iopub.status.busy": "2023-08-21T16:08:02.444528Z",
     "iopub.status.idle": "2023-08-21T16:08:03.639004Z",
     "shell.execute_reply": "2023-08-21T16:08:03.637576Z"
    },
    "papermill": {
     "duration": 1.218049,
     "end_time": "2023-08-21T16:08:03.642003",
     "exception": false,
     "start_time": "2023-08-21T16:08:02.423954",
     "status": "completed"
    },
    "tags": []
   },
   "outputs": [
    {
     "name": "stdout",
     "output_type": "stream",
     "text": [
      "              precision    recall  f1-score   support\n",
      "\n",
      "           0       0.82      0.52      0.63     16201\n",
      "           1       0.80      0.94      0.86     32627\n",
      "\n",
      "    accuracy                           0.80     48828\n",
      "   macro avg       0.81      0.73      0.75     48828\n",
      "weighted avg       0.80      0.80      0.79     48828\n",
      "\n"
     ]
    },
    {
     "data": {
      "text/plain": [
       "<Axes: >"
      ]
     },
     "execution_count": 24,
     "metadata": {},
     "output_type": "execute_result"
    },
    {
     "data": {
      "image/png": "[encoded data removed]",
      "text/plain": [
       "<Figure size 640x480 with 2 Axes>"
      ]
     },
     "metadata": {},
     "output_type": "display_data"
    }
   ],
   "source": [
    "from sklearn.naive_bayes import MultinomialNB\n",
    "from sklearn.model_selection import GridSearchCV\n",
    "\n",
    "# Define the Naive Bayes model\n",
    "naive_bayes = MultinomialNB()\n",
    "\n",
    "# Define the parameter grid for hyperparameter tuning\n",
    "param_grid = {\n",
    "    'alpha': [0.1, 1, 10]\n",
    "}\n",
    "\n",
    "# Perform grid search with cross-validation\n",
    "grid_search = GridSearchCV(naive_bayes, param_grid, cv=5)\n",
    "grid_search.fit(X_train, y_train)\n",
    "\n",
    "\n",
    "pred_MNB = grid_search.predict(X_test)\n",
    "\n",
    "print(classification_report(y_test , pred_MNB))\n",
    "cf_mat = confusion_matrix(y_test , pred_MNB)\n",
    "sns.heatmap(cf_mat, fmt='', annot=True)\n"
   ]
  },
  {
   "cell_type": "markdown",
   "id": "ff0d607a",
   "metadata": {
    "papermill": {
     "duration": 0.019758,
     "end_time": "2023-08-21T16:08:03.681419",
     "exception": false,
     "start_time": "2023-08-21T16:08:03.661661",
     "status": "completed"
    },
    "tags": []
   },
   "source": [
    "### Bad at classification of NEGATIVE/0.\n",
    "### Great at classification of POSITIVE/1 data points."
   ]
  },
  {
   "cell_type": "markdown",
   "id": "63f129ec",
   "metadata": {
    "papermill": {
     "duration": 0.019605,
     "end_time": "2023-08-21T16:08:03.720444",
     "exception": false,
     "start_time": "2023-08-21T16:08:03.700839",
     "status": "completed"
    },
    "tags": []
   },
   "source": [
    "> # RandomForestClassifier in GridSearchCV"
   ]
  },
  {
   "cell_type": "code",
   "execution_count": 25,
   "id": "1c0dd35d",
   "metadata": {
    "execution": {
     "iopub.execute_input": "2023-08-21T16:08:03.761448Z",
     "iopub.status.busy": "2023-08-21T16:08:03.760661Z",
     "iopub.status.idle": "2023-08-21T16:08:03.768748Z",
     "shell.execute_reply": "2023-08-21T16:08:03.767561Z"
    },
    "papermill": {
     "duration": 0.031852,
     "end_time": "2023-08-21T16:08:03.771391",
     "exception": false,
     "start_time": "2023-08-21T16:08:03.739539",
     "status": "completed"
    },
    "tags": []
   },
   "outputs": [
    {
     "data": {
      "text/plain": [
       "\"from sklearn.ensemble import RandomForestClassifier\\nfrom sklearn.model_selection import GridSearchCV\\n\\n# Define the random forest model\\nrandom_forest = RandomForestClassifier()\\n\\n# Define the parameter grid for hyperparameter tuning\\nparam_grid = {\\n    'n_estimators': [100, 200, 300],\\n    'max_depth': [None, 5, 10]\\n}\\n\\n# Perform grid search with cross-validation\\ngrid_search = GridSearchCV(random_forest, param_grid, cv=5)\\ngrid_search.fit(X_train, y_train)\\n\\npred_RFGS = grid_search.predict(X_test)\\n\\nprint(classification_report(y_test , pred_RFGS))\\ncf_mat = confusion_matrix(y_test , pred_RFGS)\\nsns.heatmap(cf_mat, fmt='', annot=True)\\n\""
      ]
     },
     "execution_count": 25,
     "metadata": {},
     "output_type": "execute_result"
    }
   ],
   "source": [
    "'''from sklearn.ensemble import RandomForestClassifier\n",
    "from sklearn.model_selection import GridSearchCV\n",
    "\n",
    "# Define the random forest model\n",
    "random_forest = RandomForestClassifier()\n",
    "\n",
    "# Define the parameter grid for hyperparameter tuning\n",
    "param_grid = {\n",
    "    'n_estimators': [100, 200, 300],\n",
    "    'max_depth': [None, 5, 10]\n",
    "}\n",
    "\n",
    "# Perform grid search with cross-validation\n",
    "grid_search = GridSearchCV(random_forest, param_grid, cv=5)\n",
    "grid_search.fit(X_train, y_train)\n",
    "\n",
    "pred_RFGS = grid_search.predict(X_test)\n",
    "\n",
    "print(classification_report(y_test , pred_RFGS))\n",
    "cf_mat = confusion_matrix(y_test , pred_RFGS)\n",
    "sns.heatmap(cf_mat, fmt='', annot=True)\n",
    "'''"
   ]
  },
  {
   "cell_type": "markdown",
   "id": "71093389",
   "metadata": {
    "papermill": {
     "duration": 0.019831,
     "end_time": "2023-08-21T16:08:03.811490",
     "exception": false,
     "start_time": "2023-08-21T16:08:03.791659",
     "status": "completed"
    },
    "tags": []
   },
   "source": [
    "> # SVC in GridSearchCV"
   ]
  },
  {
   "cell_type": "code",
   "execution_count": 26,
   "id": "7edeeeb5",
   "metadata": {
    "execution": {
     "iopub.execute_input": "2023-08-21T16:08:03.854240Z",
     "iopub.status.busy": "2023-08-21T16:08:03.853574Z",
     "iopub.status.idle": "2023-08-21T16:08:03.861019Z",
     "shell.execute_reply": "2023-08-21T16:08:03.859917Z"
    },
    "papermill": {
     "duration": 0.032891,
     "end_time": "2023-08-21T16:08:03.863846",
     "exception": false,
     "start_time": "2023-08-21T16:08:03.830955",
     "status": "completed"
    },
    "tags": []
   },
   "outputs": [
    {
     "data": {
      "text/plain": [
       "\"from sklearn.svm import SVC\\nfrom sklearn.model_selection import GridSearchCV\\n\\n# Define the SVM model\\nsvm = SVC()\\n\\n# Define the parameter grid for hyperparameter tuning\\nparam_grid = {\\n    'C': [0.1, 1, 10],\\n    'kernel': ['linear', 'rbf']\\n}\\n\\n# Perform grid search with cross-validation\\ngrid_search = GridSearchCV(svm, param_grid, cv=5)\\ngrid_search.fit(X_train, y_train)\\n\\npred_SVCGS = grid_search.predict(X_test)\\n\\nprint(classification_report(y_test , pred_SVCGS))\\ncf_mat = confusion_matrix(y_test , pred_SVCGS)\\nsns.heatmap(cf_mat, fmt='', annot=True)\""
      ]
     },
     "execution_count": 26,
     "metadata": {},
     "output_type": "execute_result"
    }
   ],
   "source": [
    "'''from sklearn.svm import SVC\n",
    "from sklearn.model_selection import GridSearchCV\n",
    "\n",
    "# Define the SVM model\n",
    "svm = SVC()\n",
    "\n",
    "# Define the parameter grid for hyperparameter tuning\n",
    "param_grid = {\n",
    "    'C': [0.1, 1, 10],\n",
    "    'kernel': ['linear', 'rbf']\n",
    "}\n",
    "\n",
    "# Perform grid search with cross-validation\n",
    "grid_search = GridSearchCV(svm, param_grid, cv=5)\n",
    "grid_search.fit(X_train, y_train)\n",
    "\n",
    "pred_SVCGS = grid_search.predict(X_test)\n",
    "\n",
    "print(classification_report(y_test , pred_SVCGS))\n",
    "cf_mat = confusion_matrix(y_test , pred_SVCGS)\n",
    "sns.heatmap(cf_mat, fmt='', annot=True)'''"
   ]
  },
  {
   "cell_type": "markdown",
   "id": "bd296f79",
   "metadata": {
    "papermill": {
     "duration": 0.020704,
     "end_time": "2023-08-21T16:08:03.906135",
     "exception": false,
     "start_time": "2023-08-21T16:08:03.885431",
     "status": "completed"
    },
    "tags": []
   },
   "source": [
    "# **MODEL PREDICTION**"
   ]
  },
  {
   "cell_type": "code",
   "execution_count": 27,
   "id": "112d6c28",
   "metadata": {
    "execution": {
     "iopub.execute_input": "2023-08-21T16:08:03.950868Z",
     "iopub.status.busy": "2023-08-21T16:08:03.950207Z",
     "iopub.status.idle": "2023-08-21T16:08:03.959076Z",
     "shell.execute_reply": "2023-08-21T16:08:03.957902Z"
    },
    "papermill": {
     "duration": 0.035055,
     "end_time": "2023-08-21T16:08:03.962344",
     "exception": false,
     "start_time": "2023-08-21T16:08:03.927289",
     "status": "completed"
    },
    "tags": []
   },
   "outputs": [],
   "source": [
    "prediction = clf.predict(Test_data)"
   ]
  },
  {
   "cell_type": "code",
   "execution_count": 28,
   "id": "34f79e30",
   "metadata": {
    "execution": {
     "iopub.execute_input": "2023-08-21T16:08:04.006314Z",
     "iopub.status.busy": "2023-08-21T16:08:04.005831Z",
     "iopub.status.idle": "2023-08-21T16:08:04.227935Z",
     "shell.execute_reply": "2023-08-21T16:08:04.226280Z"
    },
    "papermill": {
     "duration": 0.24793,
     "end_time": "2023-08-21T16:08:04.231589",
     "exception": false,
     "start_time": "2023-08-21T16:08:03.983659",
     "status": "completed"
    },
    "tags": []
   },
   "outputs": [],
   "source": [
    "sub = pd.DataFrame(prediction, columns=['sentiment'])\n",
    "sub.index.name = 'id'\n",
    "sub.loc[ sub[\"sentiment\"] == 1 , \"sentiment\"] = \"POSITIVE\"\n",
    "sub.loc[ sub[\"sentiment\"] == 0 , \"sentiment\"] = \"NEGATIVE\"\n",
    "sub.to_csv(\"testOutput.csv\", encoding='utf-8')\n",
    "\n",
    "output = pd.read_csv(\"testOutput.csv\")"
   ]
  },
  {
   "cell_type": "code",
   "execution_count": 29,
   "id": "269bbb45",
   "metadata": {
    "execution": {
     "iopub.execute_input": "2023-08-21T16:08:04.275252Z",
     "iopub.status.busy": "2023-08-21T16:08:04.274761Z",
     "iopub.status.idle": "2023-08-21T16:08:04.293589Z",
     "shell.execute_reply": "2023-08-21T16:08:04.292605Z"
    },
    "papermill": {
     "duration": 0.043071,
     "end_time": "2023-08-21T16:08:04.295974",
     "exception": false,
     "start_time": "2023-08-21T16:08:04.252903",
     "status": "completed"
    },
    "tags": []
   },
   "outputs": [
    {
     "data": {
      "text/plain": [
       "sentiment\n",
       "POSITIVE     40159\n",
       "NEGATIVE     15156\n",
       "dtype: int64"
      ]
     },
     "execution_count": 29,
     "metadata": {},
     "output_type": "execute_result"
    }
   ],
   "source": [
    "sub.value_counts()"
   ]
  },
  {
   "cell_type": "code",
   "execution_count": 30,
   "id": "40a87d93",
   "metadata": {
    "execution": {
     "iopub.execute_input": "2023-08-21T16:08:04.339434Z",
     "iopub.status.busy": "2023-08-21T16:08:04.338655Z",
     "iopub.status.idle": "2023-08-21T16:08:04.619897Z",
     "shell.execute_reply": "2023-08-21T16:08:04.618712Z"
    },
    "papermill": {
     "duration": 0.306225,
     "end_time": "2023-08-21T16:08:04.623119",
     "exception": false,
     "start_time": "2023-08-21T16:08:04.316894",
     "status": "completed"
    },
    "tags": []
   },
   "outputs": [
    {
     "data": {
      "text/plain": [
       "Text(0, 0.5, 'count')"
      ]
     },
     "execution_count": 30,
     "metadata": {},
     "output_type": "execute_result"
    },
    {
     "data": {
      "image/png": "[encoded data removed]",
      "text/plain": [
       "<Figure size 640x480 with 1 Axes>"
      ]
     },
     "metadata": {},
     "output_type": "display_data"
    }
   ],
   "source": [
    "import seaborn as sns\n",
    "import matplotlib.pyplot as plt\n",
    "\n",
    "sns.set()\n",
    "sub.sentiment.hist()\n",
    "plt.xlabel('sentiment')\n",
    "plt.ylabel('count')"
   ]
  },
  {
   "cell_type": "markdown",
   "id": "d4044421",
   "metadata": {
    "papermill": {
     "duration": 0.020931,
     "end_time": "2023-08-21T16:08:04.666067",
     "exception": false,
     "start_time": "2023-08-21T16:08:04.645136",
     "status": "completed"
    },
    "tags": []
   },
   "source": [
    "### Model leans towards POSITIVE sentiment, which is justified as Training data mostly contained reviews with POSITIVE sentiment.\n",
    "### Model may be slightly overfitted."
   ]
  },
  {
   "cell_type": "code",
   "execution_count": null,
   "id": "e5c97c30",
   "metadata": {
    "papermill": {
     "duration": 0.020798,
     "end_time": "2023-08-21T16:08:04.707972",
     "exception": false,
     "start_time": "2023-08-21T16:08:04.687174",
     "status": "completed"
    },
    "tags": []
   },
   "outputs": [],
   "source": []
  }
 ],
 "metadata": {
  "kernelspec": {
   "display_name": "Python 3",
   "language": "python",
   "name": "python3"
  },
  "language_info": {
   "codemirror_mode": {
    "name": "ipython",
    "version": 3
   },
   "file_extension": ".py",
   "mimetype": "text/x-python",
   "name": "python",
   "nbconvert_exporter": "python",
   "pygments_lexer": "ipython3",
   "version": "3.10.10"
  },
  "papermill": {
   "default_parameters": {},
   "duration": 63.733762,
   "end_time": "2023-08-21T16:08:06.056780",
   "environment_variables": {},
   "exception": null,
   "input_path": "__notebook__.ipynb",
   "output_path": "__notebook__.ipynb",
   "parameters": {},
   "start_time": "2023-08-21T16:07:02.323018",
   "version": "2.4.0"
  }
 },
 "nbformat": 4,
 "nbformat_minor": 5
}
